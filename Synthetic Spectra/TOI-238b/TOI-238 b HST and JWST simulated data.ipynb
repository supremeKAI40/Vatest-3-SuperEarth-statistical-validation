{
 "cells": [
  {
   "cell_type": "code",
   "execution_count": 70,
   "id": "70d439f6",
   "metadata": {},
   "outputs": [],
   "source": [
    "import pandas as pd\n",
    "import numpy as np\n",
    "import sys\n",
    "import seaborn as sns\n",
    "import pylab as plt"
   ]
  },
  {
   "cell_type": "code",
   "execution_count": 71,
   "id": "a6f9b9c3",
   "metadata": {},
   "outputs": [],
   "source": [
    "#10 channels HST G102\n",
    "pickleFile = open(\"ETC-calculation-TOI238b-HST-G102-10chanels.p\",\"rb\")\n",
    "obj = pd.read_pickle(pickleFile)\n",
    "print(obj)"
   ]
  },
  {
   "cell_type": "code",
   "execution_count": 72,
   "id": "8faad41d",
   "metadata": {},
   "outputs": [],
   "source": [
    "#10 channels HST G141\n",
    "pickleFile = open(\"ETC-calculation-TOI238b-HST-G141-10chanels.p\",\"rb\")\n",
    "obj = pd.read_pickle(pickleFile)\n",
    "print(obj)"
   ]
  },
  {
   "cell_type": "code",
   "execution_count": 73,
   "id": "57fed53c",
   "metadata": {
    "scrolled": true
   },
   "outputs": [],
   "source": [
    "# 1 pixel JWST MIRI Slitless\n",
    "pickleFile = open(\"ETC-calculation-TOI238b-JWST-Slitless-MIRI-1pixel.p\",\"rb\")\n",
    "\n",
    "obj = pd.read_pickle(pickleFile)\n",
    "np.set_printoptions(threshold=sys.maxsize)\n",
    "#print(obj)\n",
    "#print(obj['RawData']['bkg[out,in]'])\n",
    "\n",
    "#print(obj['PandeiaOutTrans']['information'])\n",
    "\n",
    "print(obj['PandeiaOutTrans']['web_report'][0]['items'][0])\n",
    "\n",
    "print(obj['PandeiaOutTrans']['web_report'][1]['items'][2])\n",
    "\n",
    "print(\"Transit duration= \",obj['timing']['Transit Duration'], \"hr = \", obj['timing']['Transit Duration']*3600, \"s\")\n"
   ]
  },
  {
   "cell_type": "code",
   "execution_count": 74,
   "id": "ea9a9b03",
   "metadata": {},
   "outputs": [],
   "source": [
    "#JWST NIRSpec G140H f070lp SUB 2048 TOI-283b 1 pixel\n",
    "pickleFile = open(\"ETC-calculation-TOI283b-JWST-G140H-f070lp-NIRSpec-1pixel.p\",\"rb\")\n",
    "\n",
    "obj = pd.read_pickle(pickleFile)\n",
    "np.set_printoptions(threshold=sys.maxsize)\n",
    "#print(obj)\n",
    "\n",
    "print(obj['PandeiaOutTrans']['web_report'][0]['items'][0])\n",
    "\n",
    "print(obj['PandeiaOutTrans']['web_report'][1]['items'][2])\n",
    "\n",
    "print(\"Transit duration= \",obj['timing']['Transit Duration'], \"hr = \", obj['timing']['Transit Duration']*3600, \"s\")"
   ]
  },
  {
   "cell_type": "code",
   "execution_count": 75,
   "id": "0d862dc2",
   "metadata": {},
   "outputs": [],
   "source": [
    "#JWST NIRSpec G140H f100lp SUB 2048 TOI-238b 1 pixel\n",
    "pickleFile = open(\"ETC-calculation-TOI283b-JWST-G140H-f100lp-NIRSpec-1pixel.p\",\"rb\")\n",
    "\n",
    "obj = pd.read_pickle(pickleFile)\n",
    "np.set_printoptions(threshold=sys.maxsize)\n",
    "#print (obj)\n",
    "\n",
    "print(obj['PandeiaOutTrans']['web_report'][0]['items'][0])\n",
    "\n",
    "print(obj['PandeiaOutTrans']['web_report'][1]['items'][2])\n",
    "\n",
    "print(\"Transit duration= \",obj['timing']['Transit Duration'], \"hr = \", obj['timing']['Transit Duration']*3600, \"s\")"
   ]
  },
  {
   "cell_type": "code",
   "execution_count": 76,
   "id": "d56fda4f",
   "metadata": {},
   "outputs": [],
   "source": [
    "#JWST NIRSpec G235H f170lp SUB 2048 TOI-238b 1 pixel\n",
    "pickleFile1 = open(\"ETC-calculation-TOI238b-JWST-G235H-f170lp-NIRSpec-1pixel.p\",\"rb\")\n",
    "\n",
    "obj1 = pd.read_pickle(pickleFile1)\n",
    "np.set_printoptions(threshold=sys.maxsize)\n",
    "#print(obj)\n",
    "\n",
    "print(obj['PandeiaOutTrans']['web_report'][0]['items'][0])\n",
    "\n",
    "print(obj['PandeiaOutTrans']['web_report'][1]['items'][2])\n",
    "\n",
    "print(\"Transit duration= \",obj['timing']['Transit Duration'], \"hr = \", obj['timing']['Transit Duration']*3600, \"s\")"
   ]
  },
  {
   "cell_type": "code",
   "execution_count": 77,
   "id": "c205684b",
   "metadata": {},
   "outputs": [],
   "source": [
    "#JWST NIRSpec G395M f290lp SUB 2048 TOI-238b 1 pixel\n",
    "pickleFile1 = open(\"ETC-calculation-TOI238b-JWST-G395M-f290lp-NIRSpec-1pixel.p\",\"rb\")\n",
    "\n",
    "obj1 = pd.read_pickle(pickleFile1)\n",
    "np.set_printoptions(threshold=sys.maxsize)\n",
    "#print(obj)\n",
    "\n",
    "print(obj['PandeiaOutTrans']['web_report'][0]['items'][0])\n",
    "\n",
    "print(obj['PandeiaOutTrans']['web_report'][1]['items'][2])\n",
    "\n",
    "print(\"Transit duration= \",obj['timing']['Transit Duration'], \"hr = \", obj['timing']['Transit Duration']*3600, \"s\")"
   ]
  },
  {
   "cell_type": "code",
   "execution_count": 78,
   "id": "8b7574b4",
   "metadata": {},
   "outputs": [],
   "source": [
    "#JWST NIRCam F322W2 TOI-238b 1 pixel\n",
    "pickleFile1 = open(\"ETC-calculation-TOI238b-JWST-F322W2-SUB258-NIRCam-1pixel.p\",\"rb\")\n",
    "\n",
    "obj1 = pd.read_pickle(pickleFile1)\n",
    "np.set_printoptions(threshold=sys.maxsize)\n",
    "#print(obj)\n",
    "\n",
    "print(obj['PandeiaOutTrans']['web_report'][0]['items'][0])\n",
    "\n",
    "print(obj['PandeiaOutTrans']['web_report'][1]['items'][2])\n",
    "\n",
    "print(\"Transit duration= \",obj['timing']['Transit Duration'], \"hr = \", obj['timing']['Transit Duration']*3600, \"s\")"
   ]
  },
  {
   "cell_type": "code",
   "execution_count": 79,
   "id": "a69bb156",
   "metadata": {},
   "outputs": [],
   "source": [
    "#JWST NIRCam F444W TOI-238b 1 pixel\n",
    "pickleFile1 = open(\"ETC-calculation-TOI238b-JWST-F444W-SUB258-NIRCam-1pixel.p\",\"rb\")\n",
    "\n",
    "obj1 = pd.read_pickle(pickleFile1)\n",
    "np.set_printoptions(threshold=sys.maxsize)\n",
    "#print(obj)\n",
    "\n",
    "print(obj['PandeiaOutTrans']['web_report'][0]['items'][0])\n",
    "\n",
    "print(obj['PandeiaOutTrans']['web_report'][1]['items'][2])\n",
    "\n",
    "print(\"Transit duration= \",obj['timing']['Transit Duration'], \"hr = \", obj['timing']['Transit Duration']*3600, \"s\")"
   ]
  },
  {
   "cell_type": "code",
   "execution_count": 80,
   "id": "bfa3ec91",
   "metadata": {},
   "outputs": [],
   "source": [
    "#JWST NIRISS Sub96 TOI-238b 1 pixel\n",
    "pickleFile1 = open(\"ETC-calculation-TOI238b-JWST-Sub96-NIRISS-1pixel.p\",\"rb\")\n",
    "\n",
    "obj1 = pd.read_pickle(pickleFile1)\n",
    "np.set_printoptions(threshold=sys.maxsize)\n",
    "#print(obj)\n",
    "\n",
    "print(obj['PandeiaOutTrans']['web_report'][0]['items'][0])\n",
    "\n",
    "print(obj['PandeiaOutTrans']['web_report'][1]['items'][2])\n",
    "\n",
    "print(\"Transit duration= \",obj['timing']['Transit Duration'], \"hr = \", obj['timing']['Transit Duration']*3600, \"s\")"
   ]
  },
  {
   "cell_type": "code",
   "execution_count": null,
   "id": "bc2011fe",
   "metadata": {},
   "outputs": [],
   "source": []
  },
  {
   "cell_type": "code",
   "execution_count": null,
   "id": "ef5d9ff1",
   "metadata": {},
   "outputs": [],
   "source": []
  },
  {
   "cell_type": "code",
   "execution_count": null,
   "id": "16387f07",
   "metadata": {},
   "outputs": [],
   "source": []
  },
  {
   "cell_type": "code",
   "execution_count": null,
   "id": "f7329a34",
   "metadata": {},
   "outputs": [],
   "source": []
  }
 ],
 "metadata": {
  "kernelspec": {
   "display_name": "Python 3 (ipykernel)",
   "language": "python",
   "name": "python3"
  },
  "language_info": {
   "codemirror_mode": {
    "name": "ipython",
    "version": 3
   },
   "file_extension": ".py",
   "mimetype": "text/x-python",
   "name": "python",
   "nbconvert_exporter": "python",
   "pygments_lexer": "ipython3",
   "version": "3.8.16"
  }
 },
 "nbformat": 4,
 "nbformat_minor": 5
}
